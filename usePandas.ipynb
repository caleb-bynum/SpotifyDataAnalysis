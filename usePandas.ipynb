{
 "cells": [
  {
   "cell_type": "markdown",
   "metadata": {},
   "source": [
    "Reading in single JSON file containing Spotify data"
   ]
  },
  {
   "cell_type": "code",
   "execution_count": 43,
   "metadata": {},
   "outputs": [
    {
     "name": "stdout",
     "output_type": "stream",
     "text": [
      "                     ts                   username  \\\n",
      "0  2019-05-07T21:48:13Z  ixx4pmx2mvrz3l4hx6y27zhqm   \n",
      "1  2019-05-07T21:49:49Z  ixx4pmx2mvrz3l4hx6y27zhqm   \n",
      "2  2019-05-07T21:53:41Z  ixx4pmx2mvrz3l4hx6y27zhqm   \n",
      "3  2019-05-08T20:46:50Z  ixx4pmx2mvrz3l4hx6y27zhqm   \n",
      "4  2019-05-08T20:51:53Z  ixx4pmx2mvrz3l4hx6y27zhqm   \n",
      "\n",
      "                                      platform  ms_played conn_country  \\\n",
      "0  Android OS 8.0.0 API 26 (asus, ASUS_Z017DA)     239316           US   \n",
      "1  Android OS 8.0.0 API 26 (asus, ASUS_Z017DA)      95097           US   \n",
      "2  Android OS 8.0.0 API 26 (asus, ASUS_Z017DA)     232253           US   \n",
      "3  Android OS 8.0.0 API 26 (asus, ASUS_Z017DA)     130730           US   \n",
      "4  Android OS 8.0.0 API 26 (asus, ASUS_Z017DA)     267933           US   \n",
      "\n",
      "  ip_addr_decrypted user_agent_decrypted      master_metadata_track_name  \\\n",
      "0     69.254.131.55              unknown            I'm Not The Only One   \n",
      "1     69.254.131.55              unknown            Shallow - Radio Edit   \n",
      "2     69.254.131.55              unknown                        Delicate   \n",
      "3     69.254.131.55              unknown  Girls Like You (feat. Cardi B)   \n",
      "4     69.254.131.55              unknown                    Chasing Cars   \n",
      "\n",
      "  master_metadata_album_artist_name master_metadata_album_album_name  ...  \\\n",
      "0                         Sam Smith               In The Lonely Hour  ...   \n",
      "1                         Lady Gaga        A Star Is Born Soundtrack  ...   \n",
      "2                      Taylor Swift                       reputation  ...   \n",
      "3                          Maroon 5                   Red Pill Blues  ...   \n",
      "4                       Snow Patrol                        Eyes Open  ...   \n",
      "\n",
      "  episode_name episode_show_name spotify_episode_uri reason_start  \\\n",
      "0         None              None                None      playbtn   \n",
      "1         None              None                None    trackdone   \n",
      "2         None              None                None       fwdbtn   \n",
      "3         None              None                None    trackdone   \n",
      "4         None              None                None     clickrow   \n",
      "\n",
      "                     reason_end shuffle  skipped  offline  offline_timestamp  \\\n",
      "0                     trackdone   False      NaN    False      1557265453770   \n",
      "1                        fwdbtn   False      NaN    False      1557265692194   \n",
      "2                     trackdone   False      NaN    False      1557265788865   \n",
      "3  unexpected-exit-while-paused   False      NaN    False      1557266020160   \n",
      "4                     trackdone   False      NaN    False      1557348444173   \n",
      "\n",
      "   incognito_mode  \n",
      "0           False  \n",
      "1           False  \n",
      "2           False  \n",
      "3           False  \n",
      "4           False  \n",
      "\n",
      "[5 rows x 21 columns]\n"
     ]
    }
   ],
   "source": [
    "import pandas as pd\n",
    "\n",
    "# Read the json file into a dataframe\n",
    "df = pd.read_json('data/Streaming_History_Audio_2019-2020_0.json')\n",
    "\n",
    "# Print the first 5 rows of the dataframe\n",
    "print(df.head())\n",
    "\n",
    "\n",
    "\n"
   ]
  },
  {
   "cell_type": "markdown",
   "metadata": {},
   "source": [
    "Converting single dataframe to .csv"
   ]
  },
  {
   "cell_type": "code",
   "execution_count": 44,
   "metadata": {},
   "outputs": [],
   "source": [
    "# store the dataframe as a csv file\n",
    "df.to_csv('data/spotify_data.csv', index=False)\n",
    "\n"
   ]
  },
  {
   "cell_type": "markdown",
   "metadata": {},
   "source": [
    "Gathering the JSON files"
   ]
  },
  {
   "cell_type": "code",
   "execution_count": 45,
   "metadata": {},
   "outputs": [
    {
     "name": "stdout",
     "output_type": "stream",
     "text": [
      "['data/Streaming_History_Audio_2019-2020_0.json', 'data/Streaming_History_Audio_2020_1.json', 'data/Streaming_History_Audio_2020-2021_2.json', 'data/Streaming_History_Audio_2021-2022_3.json', 'data/Streaming_History_Audio_2022-2023_4.json', 'data/Streaming_History_Audio_2023_5.json']\n"
     ]
    }
   ],
   "source": [
    "# gather all the json files in the data folder\n",
    "import glob\n",
    "\n",
    "# create a list of all the json files\n",
    "json_files = glob.glob('data/*.json')\n",
    "\n",
    "# sort the files by last character\n",
    "json_files.sort(key=lambda x: x[-6:])\n",
    "# print files\n",
    "print(json_files)\n",
    "\n"
   ]
  },
  {
   "cell_type": "markdown",
   "metadata": {},
   "source": [
    "Read in all JSON files and convert to dataframe"
   ]
  },
  {
   "cell_type": "code",
   "execution_count": 46,
   "metadata": {},
   "outputs": [
    {
     "name": "stdout",
     "output_type": "stream",
     "text": [
      "                     ts                   username  \\\n",
      "0  2019-05-07T21:48:13Z  ixx4pmx2mvrz3l4hx6y27zhqm   \n",
      "1  2019-05-07T21:49:49Z  ixx4pmx2mvrz3l4hx6y27zhqm   \n",
      "2  2019-05-07T21:53:41Z  ixx4pmx2mvrz3l4hx6y27zhqm   \n",
      "3  2019-05-08T20:46:50Z  ixx4pmx2mvrz3l4hx6y27zhqm   \n",
      "4  2019-05-08T20:51:53Z  ixx4pmx2mvrz3l4hx6y27zhqm   \n",
      "\n",
      "                                      platform  ms_played conn_country  \\\n",
      "0  Android OS 8.0.0 API 26 (asus, ASUS_Z017DA)     239316           US   \n",
      "1  Android OS 8.0.0 API 26 (asus, ASUS_Z017DA)      95097           US   \n",
      "2  Android OS 8.0.0 API 26 (asus, ASUS_Z017DA)     232253           US   \n",
      "3  Android OS 8.0.0 API 26 (asus, ASUS_Z017DA)     130730           US   \n",
      "4  Android OS 8.0.0 API 26 (asus, ASUS_Z017DA)     267933           US   \n",
      "\n",
      "  ip_addr_decrypted user_agent_decrypted      master_metadata_track_name  \\\n",
      "0     69.254.131.55              unknown            I'm Not The Only One   \n",
      "1     69.254.131.55              unknown            Shallow - Radio Edit   \n",
      "2     69.254.131.55              unknown                        Delicate   \n",
      "3     69.254.131.55              unknown  Girls Like You (feat. Cardi B)   \n",
      "4     69.254.131.55              unknown                    Chasing Cars   \n",
      "\n",
      "  master_metadata_album_artist_name master_metadata_album_album_name  ...  \\\n",
      "0                         Sam Smith               In The Lonely Hour  ...   \n",
      "1                         Lady Gaga        A Star Is Born Soundtrack  ...   \n",
      "2                      Taylor Swift                       reputation  ...   \n",
      "3                          Maroon 5                   Red Pill Blues  ...   \n",
      "4                       Snow Patrol                        Eyes Open  ...   \n",
      "\n",
      "  episode_name episode_show_name spotify_episode_uri reason_start  \\\n",
      "0         None              None                None      playbtn   \n",
      "1         None              None                None    trackdone   \n",
      "2         None              None                None       fwdbtn   \n",
      "3         None              None                None    trackdone   \n",
      "4         None              None                None     clickrow   \n",
      "\n",
      "                     reason_end shuffle  skipped  offline  offline_timestamp  \\\n",
      "0                     trackdone   False      NaN    False      1557265453770   \n",
      "1                        fwdbtn   False      NaN    False      1557265692194   \n",
      "2                     trackdone   False      NaN    False      1557265788865   \n",
      "3  unexpected-exit-while-paused   False      NaN    False      1557266020160   \n",
      "4                     trackdone   False      NaN    False      1557348444173   \n",
      "\n",
      "   incognito_mode  \n",
      "0           False  \n",
      "1           False  \n",
      "2           False  \n",
      "3           False  \n",
      "4           False  \n",
      "\n",
      "[5 rows x 21 columns]\n"
     ]
    }
   ],
   "source": [
    "# convert each json to a dataframe\n",
    "df_list = [ pd.read_json(file) for file in json_files ]\n",
    "\n",
    "# concatenate all the dataframes into one\n",
    "df = pd.concat(df_list, ignore_index=True)\n",
    "\n",
    "# print the first 5 rows of the dataframe\n",
    "print(df.head())\n",
    "\n",
    "# store the dataframe as a csv file\n",
    "df.to_csv('data/spotify_data.csv', index=False)"
   ]
  }
 ],
 "metadata": {
  "kernelspec": {
   "display_name": "base",
   "language": "python",
   "name": "python3"
  },
  "language_info": {
   "codemirror_mode": {
    "name": "ipython",
    "version": 3
   },
   "file_extension": ".py",
   "mimetype": "text/x-python",
   "name": "python",
   "nbconvert_exporter": "python",
   "pygments_lexer": "ipython3",
   "version": "3.8.3"
  }
 },
 "nbformat": 4,
 "nbformat_minor": 2
}
